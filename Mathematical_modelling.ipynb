{
  "nbformat": 4,
  "nbformat_minor": 0,
  "metadata": {
    "colab": {
      "name": "Mathematical_modelling.ipynb",
      "provenance": [],
      "collapsed_sections": [],
      "toc_visible": true,
      "authorship_tag": "ABX9TyPkxEcRO2a1j9cErBj/Lhtw",
      "include_colab_link": true
    },
    "kernelspec": {
      "name": "python3",
      "display_name": "Python 3"
    }
  },
  "cells": [
    {
      "cell_type": "markdown",
      "metadata": {
        "id": "view-in-github",
        "colab_type": "text"
      },
      "source": [
        "<a href=\"https://colab.research.google.com/github/akshatchaturvedi28/Collab-TensorFlow/blob/master/Mathematical_modelling.ipynb\" target=\"_parent\"><img src=\"https://colab.research.google.com/assets/colab-badge.svg\" alt=\"Open In Colab\"/></a>"
      ]
    },
    {
      "cell_type": "code",
      "metadata": {
        "id": "URgyW8cuQ0TM",
        "colab_type": "code",
        "colab": {}
      },
      "source": [
        "import numpy as np\n",
        "!pip install tensorflow==2.0.0-beta1\n",
        "import tensorflow as tf"
      ],
      "execution_count": 0,
      "outputs": []
    },
    {
      "cell_type": "code",
      "metadata": {
        "id": "fgMhGQnmRNys",
        "colab_type": "code",
        "colab": {}
      },
      "source": [
        "w = np.array([[1,0.5],[0.5,1]])\n",
        "input = np.array([[1, 2],[-1, 2]])\n",
        "bias = np.array([-2, 0.5])"
      ],
      "execution_count": 0,
      "outputs": []
    },
    {
      "cell_type": "code",
      "metadata": {
        "id": "BMy-MoMWTEVj",
        "colab_type": "code",
        "colab": {}
      },
      "source": [
        "z = np.dot(w, input) + bias"
      ],
      "execution_count": 0,
      "outputs": []
    },
    {
      "cell_type": "code",
      "metadata": {
        "id": "vgRYtek0Tbno",
        "colab_type": "code",
        "colab": {}
      },
      "source": [
        "z = tf.nn.relu(np.dot(w, input) + bias)"
      ],
      "execution_count": 0,
      "outputs": []
    },
    {
      "cell_type": "code",
      "metadata": {
        "id": "F9oU9oBDUhvu",
        "colab_type": "code",
        "outputId": "ca8a871a-1c20-4585-d3d4-911eebc05de6",
        "colab": {
          "base_uri": "https://localhost:8080/",
          "height": 69
        }
      },
      "source": [
        "z"
      ],
      "execution_count": 0,
      "outputs": [
        {
          "output_type": "execute_result",
          "data": {
            "text/plain": [
              "<tf.Tensor: id=1, shape=(2, 2), dtype=float64, numpy=\n",
              "array([[0. , 3.5],\n",
              "       [0. , 3.5]])>"
            ]
          },
          "metadata": {
            "tags": []
          },
          "execution_count": 7
        }
      ]
    },
    {
      "cell_type": "code",
      "metadata": {
        "id": "Sly3LzfLU3eD",
        "colab_type": "code",
        "outputId": "e8948291-c5e0-4b22-fa0f-6c6722b37804",
        "colab": {
          "base_uri": "https://localhost:8080/",
          "height": 297
        }
      },
      "source": [
        "import matplotlib.pyplot as plt\n",
        "\n",
        "#relu visualization\n",
        "x = np.linspace(-10, 10, 100)\n",
        "relu = tf.nn.relu(x)\n",
        "plt.plot(x, relu)\n",
        "plt.xlabel('x')\n",
        "plt.ylabel('relu')"
      ],
      "execution_count": 0,
      "outputs": [
        {
          "output_type": "execute_result",
          "data": {
            "text/plain": [
              "Text(0, 0.5, 'relu')"
            ]
          },
          "metadata": {
            "tags": []
          },
          "execution_count": 11
        },
        {
          "output_type": "display_data",
          "data": {
            "image/png": "[encoded data removed]",
            "text/plain": [
              "<Figure size 432x288 with 1 Axes>"
            ]
          },
          "metadata": {
            "tags": []
          }
        }
      ]
    },
    {
      "cell_type": "code",
      "metadata": {
        "id": "eEgAJ2lAV1wj",
        "colab_type": "code",
        "outputId": "6a781ae9-0758-4337-ef8a-1d11e6b80508",
        "colab": {
          "base_uri": "https://localhost:8080/",
          "height": 297
        }
      },
      "source": [
        "#sigmoid visualization\n",
        "\n",
        "x = np.linspace(-10, 10, 100)\n",
        "sigmoid = tf.nn.sigmoid(x)\n",
        "plt.plot(x, sigmoid)\n",
        "plt.xlabel('x')\n",
        "plt.ylabel('sigmoid')"
      ],
      "execution_count": 0,
      "outputs": [
        {
          "output_type": "execute_result",
          "data": {
            "text/plain": [
              "Text(0, 0.5, 'sigmoid')"
            ]
          },
          "metadata": {
            "tags": []
          },
          "execution_count": 12
        },
        {
          "output_type": "display_data",
          "data": {
            "image/png": "[encoded data removed]",
            "text/plain": [
              "<Figure size 432x288 with 1 Axes>"
            ]
          },
          "metadata": {
            "tags": []
          }
        }
      ]
    },
    {
      "cell_type": "code",
      "metadata": {
        "id": "2indXx0cW_0w",
        "colab_type": "code",
        "colab": {}
      },
      "source": [
        ""
      ],
      "execution_count": 0,
      "outputs": []
    }
  ]
}