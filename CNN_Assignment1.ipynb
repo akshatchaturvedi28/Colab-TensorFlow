{
  "nbformat": 4,
  "nbformat_minor": 0,
  "metadata": {
    "colab": {
      "name": "CNN_Assignment1.ipynb",
      "provenance": [],
      "collapsed_sections": [],
      "authorship_tag": "ABX9TyM0idnZbR9Jz7FxNPx4VPVc",
      "include_colab_link": true
    },
    "kernelspec": {
      "name": "python3",
      "display_name": "Python 3"
    },
    "accelerator": "GPU"
  },
  "cells": [
    {
      "cell_type": "markdown",
      "metadata": {
        "id": "view-in-github",
        "colab_type": "text"
      },
      "source": [
        "<a href=\"https://colab.research.google.com/github/akshatchaturvedi28/Collab-TensorFlow/blob/master/CNN_Assignment1.ipynb\" target=\"_parent\"><img src=\"https://colab.research.google.com/assets/colab-badge.svg\" alt=\"Open In Colab\"/></a>"
      ]
    },
    {
      "cell_type": "code",
      "metadata": {
        "id": "bno6-pS2VzZB",
        "colab_type": "code",
        "colab": {}
      },
      "source": [
        "!pip install tensorflow-gpu==2.0.0-beta1\n",
        "\n",
        "import numpy as np\n",
        "np.random.seed(7)\n",
        "\n",
        "import tensorflow as tf\n",
        "tf.random.set_seed(7)"
      ],
      "execution_count": 0,
      "outputs": []
    },
    {
      "cell_type": "code",
      "metadata": {
        "id": "j2glVHyEVz__",
        "colab_type": "code",
        "outputId": "c2ae42ec-582b-4bef-9976-c5f9cdc1c9d1",
        "colab": {
          "base_uri": "https://localhost:8080/",
          "height": 87
        }
      },
      "source": [
        "(train_images, train_labels), (test_images, test_labels) = tf.keras.datasets.cifar10.load_data()\n",
        "print(\"train_images shape:\", train_images.shape)\n",
        "print(\"test_images shape:\", test_images.shape)\n",
        "print(\"train_labels shape:\", train_labels.shape)\n",
        "print(\"test_labels shape:\", test_labels.shape)\n",
        "\n",
        "train_images = train_images / 255\n",
        "test_images = test_images / 255"
      ],
      "execution_count": 0,
      "outputs": [
        {
          "output_type": "stream",
          "text": [
            "train_images shape: (50000, 32, 32, 3)\n",
            "test_images shape: (10000, 32, 32, 3)\n",
            "train_labels shape: (50000, 1)\n",
            "test_labels shape: (10000, 1)\n"
          ],
          "name": "stdout"
        }
      ]
    },
    {
      "cell_type": "markdown",
      "metadata": {
        "id": "lJB6stshWHnd",
        "colab_type": "text"
      },
      "source": [
        "**Building the MODEL**"
      ]
    },
    {
      "cell_type": "code",
      "metadata": {
        "id": "ZbPgiU3tV-i3",
        "colab_type": "code",
        "colab": {}
      },
      "source": [
        "model = tf.keras.models.Sequential()"
      ],
      "execution_count": 0,
      "outputs": []
    },
    {
      "cell_type": "code",
      "metadata": {
        "id": "MRLwFN-uWQqO",
        "colab_type": "code",
        "colab": {}
      },
      "source": [
        "model.add(tf.keras.layers.Conv2D(64, (5, 5), activation='relu', input_shape = (32, 32, 3)))"
      ],
      "execution_count": 0,
      "outputs": []
    },
    {
      "cell_type": "code",
      "metadata": {
        "id": "ePYdBiFwXG0m",
        "colab_type": "code",
        "colab": {}
      },
      "source": [
        "model.add(tf.keras.layers.MaxPool2D((2, 2)))"
      ],
      "execution_count": 0,
      "outputs": []
    },
    {
      "cell_type": "code",
      "metadata": {
        "id": "AWRgl9oSXdtT",
        "colab_type": "code",
        "colab": {}
      },
      "source": [
        "model.add(tf.keras.layers.Conv2D(32, (5, 5), activation='relu'))"
      ],
      "execution_count": 0,
      "outputs": []
    },
    {
      "cell_type": "code",
      "metadata": {
        "id": "v47TRsIaXpmv",
        "colab_type": "code",
        "colab": {}
      },
      "source": [
        "model.add(tf.keras.layers.MaxPool2D((2, 2)))"
      ],
      "execution_count": 0,
      "outputs": []
    },
    {
      "cell_type": "code",
      "metadata": {
        "id": "Kc4z_9ruXtDr",
        "colab_type": "code",
        "colab": {}
      },
      "source": [
        "model.add(tf.keras.layers.Flatten())\n",
        "model.add(tf.keras.layers.Dense(64, activation='relu'))\n",
        "model.add(tf.keras.layers.Dense(10, activation='softmax'))"
      ],
      "execution_count": 0,
      "outputs": []
    },
    {
      "cell_type": "code",
      "metadata": {
        "id": "QtNAbFAFZ0sq",
        "colab_type": "code",
        "outputId": "733021c9-d91d-4d85-a796-1e8592652a14",
        "colab": {
          "base_uri": "https://localhost:8080/",
          "height": 399
        }
      },
      "source": [
        "model.summary()"
      ],
      "execution_count": 0,
      "outputs": [
        {
          "output_type": "stream",
          "text": [
            "Model: \"sequential\"\n",
            "_________________________________________________________________\n",
            "Layer (type)                 Output Shape              Param #   \n",
            "=================================================================\n",
            "conv2d (Conv2D)              (None, 28, 28, 64)        4864      \n",
            "_________________________________________________________________\n",
            "max_pooling2d (MaxPooling2D) (None, 14, 14, 64)        0         \n",
            "_________________________________________________________________\n",
            "conv2d_1 (Conv2D)            (None, 10, 10, 32)        51232     \n",
            "_________________________________________________________________\n",
            "max_pooling2d_1 (MaxPooling2 (None, 5, 5, 32)          0         \n",
            "_________________________________________________________________\n",
            "flatten (Flatten)            (None, 800)               0         \n",
            "_________________________________________________________________\n",
            "dense (Dense)                (None, 64)                51264     \n",
            "_________________________________________________________________\n",
            "dense_1 (Dense)              (None, 10)                650       \n",
            "=================================================================\n",
            "Total params: 108,010\n",
            "Trainable params: 108,010\n",
            "Non-trainable params: 0\n",
            "_________________________________________________________________\n"
          ],
          "name": "stdout"
        }
      ]
    },
    {
      "cell_type": "code",
      "metadata": {
        "id": "CffwM_MGYHAe",
        "colab_type": "code",
        "colab": {}
      },
      "source": [
        "model.compile(optimizer='adam', metrics=['accuracy'], loss='sparse_categorical_crossentropy')"
      ],
      "execution_count": 0,
      "outputs": []
    },
    {
      "cell_type": "code",
      "metadata": {
        "id": "X5CRIjcbYwAr",
        "colab_type": "code",
        "outputId": "1f14714c-d04b-46e4-bf50-99910d71da8b",
        "colab": {
          "base_uri": "https://localhost:8080/",
          "height": 471
        }
      },
      "source": [
        "model.fit(train_images, train_labels, epochs=10, batch_size=128, shuffle=True)"
      ],
      "execution_count": 0,
      "outputs": [
        {
          "output_type": "stream",
          "text": [
            "WARNING:tensorflow:From /usr/local/lib/python3.6/dist-packages/tensorflow/python/ops/math_grad.py:1250: add_dispatch_support.<locals>.wrapper (from tensorflow.python.ops.array_ops) is deprecated and will be removed in a future version.\n",
            "Instructions for updating:\n",
            "Use tf.where in 2.0, which has the same broadcast rule as np.where\n",
            "Train on 50000 samples\n",
            "Epoch 1/10\n",
            "50000/50000 [==============================] - 4s 83us/sample - loss: 1.6656 - accuracy: 0.3986\n",
            "Epoch 2/10\n",
            "50000/50000 [==============================] - 3s 55us/sample - loss: 1.3497 - accuracy: 0.5166\n",
            "Epoch 3/10\n",
            "50000/50000 [==============================] - 3s 55us/sample - loss: 1.2350 - accuracy: 0.5601\n",
            "Epoch 4/10\n",
            "50000/50000 [==============================] - 3s 53us/sample - loss: 1.1427 - accuracy: 0.5982\n",
            "Epoch 5/10\n",
            "50000/50000 [==============================] - 3s 53us/sample - loss: 1.0704 - accuracy: 0.6247\n",
            "Epoch 6/10\n",
            "50000/50000 [==============================] - 3s 54us/sample - loss: 1.0152 - accuracy: 0.6443\n",
            "Epoch 7/10\n",
            "50000/50000 [==============================] - 3s 54us/sample - loss: 0.9768 - accuracy: 0.6570\n",
            "Epoch 8/10\n",
            "50000/50000 [==============================] - 3s 53us/sample - loss: 0.9353 - accuracy: 0.6742\n",
            "Epoch 9/10\n",
            "50000/50000 [==============================] - 3s 53us/sample - loss: 0.9103 - accuracy: 0.6814\n",
            "Epoch 10/10\n",
            "50000/50000 [==============================] - 3s 55us/sample - loss: 0.8766 - accuracy: 0.6954\n"
          ],
          "name": "stdout"
        },
        {
          "output_type": "execute_result",
          "data": {
            "text/plain": [
              "<tensorflow.python.keras.callbacks.History at 0x7f24500e6a58>"
            ]
          },
          "metadata": {
            "tags": []
          },
          "execution_count": 11
        }
      ]
    },
    {
      "cell_type": "code",
      "metadata": {
        "id": "W9Wb-I0nZHI3",
        "colab_type": "code",
        "outputId": "47d05d37-b5e2-4215-e932-da112760e9ee",
        "colab": {
          "base_uri": "https://localhost:8080/",
          "height": 69
        }
      },
      "source": [
        "loss, accuracy = model.evaluate(test_images, test_labels)\n",
        "print(\"Test Loss:\", loss)\n",
        "print(\"Test Accuracy:\", accuracy)"
      ],
      "execution_count": 0,
      "outputs": [
        {
          "output_type": "stream",
          "text": [
            "10000/10000 [==============================] - 1s 75us/sample - loss: 0.9498 - accuracy: 0.6702\n",
            "Test Loss: 0.9498183982849121\n",
            "Test Accuracy: 0.6702\n"
          ],
          "name": "stdout"
        }
      ]
    }
  ]
}