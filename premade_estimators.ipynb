{
  "nbformat": 4,
  "nbformat_minor": 0,
  "metadata": {
    "colab": {
      "name": "premade_estimators.ipynb",
      "provenance": [],
      "authorship_tag": "ABX9TyNLWCiU9MV+PB+icU6phnaS",
      "include_colab_link": true
    },
    "kernelspec": {
      "name": "python3",
      "display_name": "Python 3"
    }
  },
  "cells": [
    {
      "cell_type": "markdown",
      "metadata": {
        "id": "view-in-github",
        "colab_type": "text"
      },
      "source": [
        "<a href=\"https://colab.research.google.com/github/akshatchaturvedi28/Colab-TensorFlow/blob/master/premade_estimators.ipynb\" target=\"_parent\"><img src=\"https://colab.research.google.com/assets/colab-badge.svg\" alt=\"Open In Colab\"/></a>"
      ]
    },
    {
      "cell_type": "code",
      "metadata": {
        "id": "yPBZW6mDMhsW",
        "colab_type": "code",
        "colab": {
          "base_uri": "https://localhost:8080/",
          "height": 575
        },
        "outputId": "9da3ba03-a6f3-434f-cc48-59db2c056680"
      },
      "source": [
        "!pip install tensorflow==2.0.0-beta1"
      ],
      "execution_count": 1,
      "outputs": [
        {
          "output_type": "stream",
          "text": [
            "Collecting tensorflow==2.0.0-beta1\n",
            "\u001b[?25l  Downloading https://files.pythonhosted.org/packages/29/6c/2c9a5c4d095c63c2fb37d20def0e4f92685f7aee9243d6aae25862694fd1/tensorflow-2.0.0b1-cp36-cp36m-manylinux1_x86_64.whl (87.9MB)\n",
            "\u001b[K     |████████████████████████████████| 87.9MB 64kB/s \n",
            "\u001b[?25hRequirement already satisfied: six>=1.10.0 in /usr/local/lib/python3.6/dist-packages (from tensorflow==2.0.0-beta1) (1.12.0)\n",
            "Requirement already satisfied: numpy<2.0,>=1.14.5 in /usr/local/lib/python3.6/dist-packages (from tensorflow==2.0.0-beta1) (1.17.5)\n",
            "Collecting tb-nightly<1.14.0a20190604,>=1.14.0a20190603\n",
            "\u001b[?25l  Downloading https://files.pythonhosted.org/packages/a4/96/571b875cd81dda9d5dfa1422a4f9d749e67c0a8d4f4f0b33a4e5f5f35e27/tb_nightly-1.14.0a20190603-py3-none-any.whl (3.1MB)\n",
            "\u001b[K     |████████████████████████████████| 3.1MB 37.6MB/s \n",
            "\u001b[?25hRequirement already satisfied: grpcio>=1.8.6 in /usr/local/lib/python3.6/dist-packages (from tensorflow==2.0.0-beta1) (1.27.1)\n",
            "Requirement already satisfied: astor>=0.6.0 in /usr/local/lib/python3.6/dist-packages (from tensorflow==2.0.0-beta1) (0.8.1)\n",
            "Requirement already satisfied: keras-applications>=1.0.6 in /usr/local/lib/python3.6/dist-packages (from tensorflow==2.0.0-beta1) (1.0.8)\n",
            "Collecting tf-estimator-nightly<1.14.0.dev2019060502,>=1.14.0.dev2019060501\n",
            "\u001b[?25l  Downloading https://files.pythonhosted.org/packages/32/dd/99c47dd007dcf10d63fd895611b063732646f23059c618a373e85019eb0e/tf_estimator_nightly-1.14.0.dev2019060501-py2.py3-none-any.whl (496kB)\n",
            "\u001b[K     |████████████████████████████████| 501kB 42.8MB/s \n",
            "\u001b[?25hRequirement already satisfied: wrapt>=1.11.1 in /usr/local/lib/python3.6/dist-packages (from tensorflow==2.0.0-beta1) (1.11.2)\n",
            "Requirement already satisfied: keras-preprocessing>=1.0.5 in /usr/local/lib/python3.6/dist-packages (from tensorflow==2.0.0-beta1) (1.1.0)\n",
            "Requirement already satisfied: google-pasta>=0.1.6 in /usr/local/lib/python3.6/dist-packages (from tensorflow==2.0.0-beta1) (0.1.8)\n",
            "Requirement already satisfied: protobuf>=3.6.1 in /usr/local/lib/python3.6/dist-packages (from tensorflow==2.0.0-beta1) (3.10.0)\n",
            "Requirement already satisfied: wheel>=0.26 in /usr/local/lib/python3.6/dist-packages (from tensorflow==2.0.0-beta1) (0.34.2)\n",
            "Requirement already satisfied: termcolor>=1.1.0 in /usr/local/lib/python3.6/dist-packages (from tensorflow==2.0.0-beta1) (1.1.0)\n",
            "Requirement already satisfied: absl-py>=0.7.0 in /usr/local/lib/python3.6/dist-packages (from tensorflow==2.0.0-beta1) (0.9.0)\n",
            "Requirement already satisfied: gast>=0.2.0 in /usr/local/lib/python3.6/dist-packages (from tensorflow==2.0.0-beta1) (0.2.2)\n",
            "Requirement already satisfied: setuptools>=41.0.0 in /usr/local/lib/python3.6/dist-packages (from tb-nightly<1.14.0a20190604,>=1.14.0a20190603->tensorflow==2.0.0-beta1) (45.2.0)\n",
            "Requirement already satisfied: werkzeug>=0.11.15 in /usr/local/lib/python3.6/dist-packages (from tb-nightly<1.14.0a20190604,>=1.14.0a20190603->tensorflow==2.0.0-beta1) (1.0.0)\n",
            "Requirement already satisfied: markdown>=2.6.8 in /usr/local/lib/python3.6/dist-packages (from tb-nightly<1.14.0a20190604,>=1.14.0a20190603->tensorflow==2.0.0-beta1) (3.2.1)\n",
            "Requirement already satisfied: h5py in /usr/local/lib/python3.6/dist-packages (from keras-applications>=1.0.6->tensorflow==2.0.0-beta1) (2.8.0)\n",
            "Installing collected packages: tb-nightly, tf-estimator-nightly, tensorflow\n",
            "  Found existing installation: tensorflow 1.15.0\n",
            "    Uninstalling tensorflow-1.15.0:\n",
            "      Successfully uninstalled tensorflow-1.15.0\n",
            "Successfully installed tb-nightly-1.14.0a20190603 tensorflow-2.0.0b1 tf-estimator-nightly-1.14.0.dev2019060501\n"
          ],
          "name": "stdout"
        }
      ]
    },
    {
      "cell_type": "code",
      "metadata": {
        "id": "wlyvuopYMoD0",
        "colab_type": "code",
        "colab": {
          "base_uri": "https://localhost:8080/",
          "height": 453
        },
        "outputId": "6b175278-94b7-4668-f877-4d2e3c9d4cfc"
      },
      "source": [
        "from __future__ import division, print_function, unicode_literals, absolute_import\n",
        "import tensorflow as tf\n",
        "import pandas as pd"
      ],
      "execution_count": 2,
      "outputs": [
        {
          "output_type": "stream",
          "text": [
            "/usr/local/lib/python3.6/dist-packages/tensorflow/python/framework/dtypes.py:516: FutureWarning: Passing (type, 1) or '1type' as a synonym of type is deprecated; in a future version of numpy, it will be understood as (type, (1,)) / '(1,)type'.\n",
            "  _np_qint8 = np.dtype([(\"qint8\", np.int8, 1)])\n",
            "/usr/local/lib/python3.6/dist-packages/tensorflow/python/framework/dtypes.py:517: FutureWarning: Passing (type, 1) or '1type' as a synonym of type is deprecated; in a future version of numpy, it will be understood as (type, (1,)) / '(1,)type'.\n",
            "  _np_quint8 = np.dtype([(\"quint8\", np.uint8, 1)])\n",
            "/usr/local/lib/python3.6/dist-packages/tensorflow/python/framework/dtypes.py:518: FutureWarning: Passing (type, 1) or '1type' as a synonym of type is deprecated; in a future version of numpy, it will be understood as (type, (1,)) / '(1,)type'.\n",
            "  _np_qint16 = np.dtype([(\"qint16\", np.int16, 1)])\n",
            "/usr/local/lib/python3.6/dist-packages/tensorflow/python/framework/dtypes.py:519: FutureWarning: Passing (type, 1) or '1type' as a synonym of type is deprecated; in a future version of numpy, it will be understood as (type, (1,)) / '(1,)type'.\n",
            "  _np_quint16 = np.dtype([(\"quint16\", np.uint16, 1)])\n",
            "/usr/local/lib/python3.6/dist-packages/tensorflow/python/framework/dtypes.py:520: FutureWarning: Passing (type, 1) or '1type' as a synonym of type is deprecated; in a future version of numpy, it will be understood as (type, (1,)) / '(1,)type'.\n",
            "  _np_qint32 = np.dtype([(\"qint32\", np.int32, 1)])\n",
            "/usr/local/lib/python3.6/dist-packages/tensorflow/python/framework/dtypes.py:525: FutureWarning: Passing (type, 1) or '1type' as a synonym of type is deprecated; in a future version of numpy, it will be understood as (type, (1,)) / '(1,)type'.\n",
            "  np_resource = np.dtype([(\"resource\", np.ubyte, 1)])\n",
            "/usr/local/lib/python3.6/dist-packages/tensorboard/compat/tensorflow_stub/dtypes.py:541: FutureWarning: Passing (type, 1) or '1type' as a synonym of type is deprecated; in a future version of numpy, it will be understood as (type, (1,)) / '(1,)type'.\n",
            "  _np_qint8 = np.dtype([(\"qint8\", np.int8, 1)])\n",
            "/usr/local/lib/python3.6/dist-packages/tensorboard/compat/tensorflow_stub/dtypes.py:542: FutureWarning: Passing (type, 1) or '1type' as a synonym of type is deprecated; in a future version of numpy, it will be understood as (type, (1,)) / '(1,)type'.\n",
            "  _np_quint8 = np.dtype([(\"quint8\", np.uint8, 1)])\n",
            "/usr/local/lib/python3.6/dist-packages/tensorboard/compat/tensorflow_stub/dtypes.py:543: FutureWarning: Passing (type, 1) or '1type' as a synonym of type is deprecated; in a future version of numpy, it will be understood as (type, (1,)) / '(1,)type'.\n",
            "  _np_qint16 = np.dtype([(\"qint16\", np.int16, 1)])\n",
            "/usr/local/lib/python3.6/dist-packages/tensorboard/compat/tensorflow_stub/dtypes.py:544: FutureWarning: Passing (type, 1) or '1type' as a synonym of type is deprecated; in a future version of numpy, it will be understood as (type, (1,)) / '(1,)type'.\n",
            "  _np_quint16 = np.dtype([(\"quint16\", np.uint16, 1)])\n",
            "/usr/local/lib/python3.6/dist-packages/tensorboard/compat/tensorflow_stub/dtypes.py:545: FutureWarning: Passing (type, 1) or '1type' as a synonym of type is deprecated; in a future version of numpy, it will be understood as (type, (1,)) / '(1,)type'.\n",
            "  _np_qint32 = np.dtype([(\"qint32\", np.int32, 1)])\n",
            "/usr/local/lib/python3.6/dist-packages/tensorboard/compat/tensorflow_stub/dtypes.py:550: FutureWarning: Passing (type, 1) or '1type' as a synonym of type is deprecated; in a future version of numpy, it will be understood as (type, (1,)) / '(1,)type'.\n",
            "  np_resource = np.dtype([(\"resource\", np.ubyte, 1)])\n"
          ],
          "name": "stderr"
        }
      ]
    },
    {
      "cell_type": "markdown",
      "metadata": {
        "id": "CA1m5_ltNSgl",
        "colab_type": "text"
      },
      "source": [
        "### **THE DATASET**"
      ]
    },
    {
      "cell_type": "markdown",
      "metadata": {
        "id": "McRaEpk8NY3d",
        "colab_type": "text"
      },
      "source": [
        "Iris Flower Dataset"
      ]
    },
    {
      "cell_type": "code",
      "metadata": {
        "id": "9rALC0w5NDSP",
        "colab_type": "code",
        "colab": {}
      },
      "source": [
        "CSV_COLUMN_NAMES = ['SepalLength', 'SepalWidth', 'PetalLength', 'PetalWidth', 'Species']\n",
        "SPECIES = ['Setosa', 'Versicolor', 'Virginica']"
      ],
      "execution_count": 0,
      "outputs": []
    },
    {
      "cell_type": "code",
      "metadata": {
        "id": "m-Blfz9DNzAO",
        "colab_type": "code",
        "colab": {}
      },
      "source": [
        "train_path = tf.keras.utils.get_file(\n",
        "    \"iris_training.csv\", \"https://storage.googleapis.com/download.tensorflow.org/data/iris_training.csv\")\n",
        "test_path = tf.keras.utils.get_file(\n",
        "    \"iris_test.csv\", \"https://storage.googleapis.com/download.tensorflow.org/data/iris_test.csv\")\n",
        "\n",
        "train = pd.read_csv(train_path, names=CSV_COLUMN_NAMES, header=0)\n",
        "test = pd.read_csv(test_path, names=CSV_COLUMN_NAMES, header=0)"
      ],
      "execution_count": 0,
      "outputs": []
    },
    {
      "cell_type": "code",
      "metadata": {
        "id": "A7lkbG0SPCrl",
        "colab_type": "code",
        "colab": {
          "base_uri": "https://localhost:8080/",
          "height": 202
        },
        "outputId": "624cac6c-2f45-4a77-deb7-411223189010"
      },
      "source": [
        "train.head()"
      ],
      "execution_count": 6,
      "outputs": [
        {
          "output_type": "execute_result",
          "data": {
            "text/html": [
              "<div>\n",
              "<style scoped>\n",
              "    .dataframe tbody tr th:only-of-type {\n",
              "        vertical-align: middle;\n",
              "    }\n",
              "\n",
              "    .dataframe tbody tr th {\n",
              "        vertical-align: top;\n",
              "    }\n",
              "\n",
              "    .dataframe thead th {\n",
              "        text-align: right;\n",
              "    }\n",
              "</style>\n",
              "<table border=\"1\" class=\"dataframe\">\n",
              "  <thead>\n",
              "    <tr style=\"text-align: right;\">\n",
              "      <th></th>\n",
              "      <th>SepalLength</th>\n",
              "      <th>SepalWidth</th>\n",
              "      <th>PetalLength</th>\n",
              "      <th>PetalWidth</th>\n",
              "      <th>Species</th>\n",
              "    </tr>\n",
              "  </thead>\n",
              "  <tbody>\n",
              "    <tr>\n",
              "      <th>0</th>\n",
              "      <td>6.4</td>\n",
              "      <td>2.8</td>\n",
              "      <td>5.6</td>\n",
              "      <td>2.2</td>\n",
              "      <td>2</td>\n",
              "    </tr>\n",
              "    <tr>\n",
              "      <th>1</th>\n",
              "      <td>5.0</td>\n",
              "      <td>2.3</td>\n",
              "      <td>3.3</td>\n",
              "      <td>1.0</td>\n",
              "      <td>1</td>\n",
              "    </tr>\n",
              "    <tr>\n",
              "      <th>2</th>\n",
              "      <td>4.9</td>\n",
              "      <td>2.5</td>\n",
              "      <td>4.5</td>\n",
              "      <td>1.7</td>\n",
              "      <td>2</td>\n",
              "    </tr>\n",
              "    <tr>\n",
              "      <th>3</th>\n",
              "      <td>4.9</td>\n",
              "      <td>3.1</td>\n",
              "      <td>1.5</td>\n",
              "      <td>0.1</td>\n",
              "      <td>0</td>\n",
              "    </tr>\n",
              "    <tr>\n",
              "      <th>4</th>\n",
              "      <td>5.7</td>\n",
              "      <td>3.8</td>\n",
              "      <td>1.7</td>\n",
              "      <td>0.3</td>\n",
              "      <td>0</td>\n",
              "    </tr>\n",
              "  </tbody>\n",
              "</table>\n",
              "</div>"
            ],
            "text/plain": [
              "   SepalLength  SepalWidth  PetalLength  PetalWidth  Species\n",
              "0          6.4         2.8          5.6         2.2        2\n",
              "1          5.0         2.3          3.3         1.0        1\n",
              "2          4.9         2.5          4.5         1.7        2\n",
              "3          4.9         3.1          1.5         0.1        0\n",
              "4          5.7         3.8          1.7         0.3        0"
            ]
          },
          "metadata": {
            "tags": []
          },
          "execution_count": 6
        }
      ]
    },
    {
      "cell_type": "code",
      "metadata": {
        "id": "QKUWPDRPPOZL",
        "colab_type": "code",
        "colab": {}
      },
      "source": [
        "y_train = train.pop('Species')\n",
        "y_test = test.pop('Species')"
      ],
      "execution_count": 0,
      "outputs": []
    },
    {
      "cell_type": "markdown",
      "metadata": {
        "id": "VFeCpEFFPoaO",
        "colab_type": "text"
      },
      "source": [
        "**Overview of Programming with Estimators**"
      ]
    },
    {
      "cell_type": "markdown",
      "metadata": {
        "id": "OlN0SU5KP7kQ",
        "colab_type": "text"
      },
      "source": [
        "To write a Tensorflow program based on pre-made Estimators, you must perform the following tasks:\n",
        "\n",
        "\n",
        "*   Create one or more input functions.\n",
        "*   Define the model's feature columns.\n",
        "*   Instantiate an Estimator, specifying the feature columns and various hyperparameters.\n",
        "*   Call one or more methods on the Estimator object, passing the appropriate input function as the source of the data.\n",
        "\n"
      ]
    },
    {
      "cell_type": "markdown",
      "metadata": {
        "id": "0BcFKt7TSBEm",
        "colab_type": "text"
      },
      "source": [
        "**Create input functions**"
      ]
    },
    {
      "cell_type": "code",
      "metadata": {
        "id": "eV-dVErvPbq1",
        "colab_type": "code",
        "colab": {}
      },
      "source": [
        "def input_evaluation_set():\n",
        "  features = {'SepalLength': np.array([6.4, 5.0]),\n",
        "              'SepalWidth': np.array([2.8, 2.3]),\n",
        "              'PetalLength': np.array([5.6, 3.3]),\n",
        "              'PetalWidth': np.array([2.2, 1.0]) }\n",
        "  labels = np.array([2, 1])\n",
        "  return features, labels"
      ],
      "execution_count": 0,
      "outputs": []
    },
    {
      "cell_type": "code",
      "metadata": {
        "id": "78-QXrSOTOGF",
        "colab_type": "code",
        "colab": {}
      },
      "source": [
        "def input_fn(features, labels, training=True, batch_size=256):\n",
        "\n",
        "  # Convert the inputs to a Dataset.\n",
        "  dataset = tf.data.Dataset.from_tensor_slices((dict(features), labels))\n",
        "\n",
        "  # Shuffle and repeat if you are in training mode.\n",
        "  if training:\n",
        "    dataset = dataset.shuffle(1000).repeat()\n",
        "\n",
        "  return dataset.batch(batch_size)"
      ],
      "execution_count": 0,
      "outputs": []
    },
    {
      "cell_type": "markdown",
      "metadata": {
        "id": "qOnXYFp7UXyD",
        "colab_type": "text"
      },
      "source": [
        "**Define the Feature Columns**"
      ]
    },
    {
      "cell_type": "code",
      "metadata": {
        "id": "XBTeme_-Uc5d",
        "colab_type": "code",
        "colab": {}
      },
      "source": [
        "my_feature_columns = []\n",
        "for key in train.keys():\n",
        "  my_feature_columns.append(tf.feature_column.numeric_column(key=key))\n",
        "  # Since all features are numeric here"
      ],
      "execution_count": 0,
      "outputs": []
    },
    {
      "cell_type": "markdown",
      "metadata": {
        "id": "ZObvDNGQU4hO",
        "colab_type": "text"
      },
      "source": [
        "**Instantiate an estimator**"
      ]
    },
    {
      "cell_type": "markdown",
      "metadata": {
        "id": "WVEQNbJsVHGf",
        "colab_type": "text"
      },
      "source": [
        "\n",
        "\n",
        "*   tf.estimator.DNNClassifier for deep models that perform multi-class classification.\n",
        "*   tf.estimator.DNNLinearCombinedClassifier for wide & deep models.\n",
        "*   tf.estimator.LinearClassifier for classifiers based on linear models.\n",
        "\n"
      ]
    },
    {
      "cell_type": "code",
      "metadata": {
        "id": "r8jvp2tGUwlI",
        "colab_type": "code",
        "colab": {
          "base_uri": "https://localhost:8080/",
          "height": 193
        },
        "outputId": "37a2208e-7294-46b6-da2f-411bcbcded61"
      },
      "source": [
        "classifier = tf.estimator.DNNClassifier(\n",
        "    feature_columns = my_feature_columns,\n",
        "    # Two hidden layers of 30 & 10 nodes\n",
        "    hidden_units = [30, 10],\n",
        "    # The model must choose between 3 classess\n",
        "    n_classes=3)"
      ],
      "execution_count": 23,
      "outputs": [
        {
          "output_type": "stream",
          "text": [
            "INFO:tensorflow:Using default config.\n",
            "WARNING:tensorflow:Using temporary folder as model directory: /tmp/tmpfk2kb2zy\n",
            "INFO:tensorflow:Using config: {'_model_dir': '/tmp/tmpfk2kb2zy', '_tf_random_seed': None, '_save_summary_steps': 100, '_save_checkpoints_steps': None, '_save_checkpoints_secs': 600, '_session_config': allow_soft_placement: true\n",
            "graph_options {\n",
            "  rewrite_options {\n",
            "    meta_optimizer_iterations: ONE\n",
            "  }\n",
            "}\n",
            ", '_keep_checkpoint_max': 5, '_keep_checkpoint_every_n_hours': 10000, '_log_step_count_steps': 100, '_train_distribute': None, '_device_fn': None, '_protocol': None, '_eval_distribute': None, '_experimental_distribute': None, '_experimental_max_worker_delay_secs': None, '_service': None, '_cluster_spec': <tensorflow.python.training.server_lib.ClusterSpec object at 0x7fcaa49a2048>, '_task_type': 'worker', '_task_id': 0, '_global_id_in_cluster': 0, '_master': '', '_evaluation_master': '', '_is_chief': True, '_num_ps_replicas': 0, '_num_worker_replicas': 1}\n"
          ],
          "name": "stdout"
        }
      ]
    },
    {
      "cell_type": "markdown",
      "metadata": {
        "id": "qh6WsOtOWOdc",
        "colab_type": "text"
      },
      "source": [
        "**Train, Evaluate & Predict**"
      ]
    },
    {
      "cell_type": "code",
      "metadata": {
        "id": "u9VfvlfRWK7z",
        "colab_type": "code",
        "colab": {
          "base_uri": "https://localhost:8080/",
          "height": 1000
        },
        "outputId": "d01d1bfe-e811-4932-8bf5-5fc7ce277ae8"
      },
      "source": [
        "classifier.train(\n",
        "    input_fn=lambda: input_fn(train, y_train, training=True),\n",
        "    steps=5000\n",
        ")"
      ],
      "execution_count": 24,
      "outputs": [
        {
          "output_type": "stream",
          "text": [
            "INFO:tensorflow:Calling model_fn.\n",
            "WARNING:tensorflow:From /usr/local/lib/python3.6/dist-packages/tensorflow_estimator/python/estimator/head/base_head.py:574: to_float (from tensorflow.python.ops.math_ops) is deprecated and will be removed in a future version.\n",
            "Instructions for updating:\n",
            "Use `tf.cast` instead.\n",
            "WARNING:tensorflow:From /usr/local/lib/python3.6/dist-packages/tensorflow/python/keras/optimizer_v2/adagrad.py:105: calling Constant.__init__ (from tensorflow.python.ops.init_ops) with dtype is deprecated and will be removed in a future version.\n",
            "Instructions for updating:\n",
            "Call initializer instance with the dtype argument instead of passing it to the constructor\n",
            "INFO:tensorflow:Done calling model_fn.\n",
            "INFO:tensorflow:Create CheckpointSaverHook.\n",
            "WARNING:tensorflow:From /usr/local/lib/python3.6/dist-packages/tensorflow/python/ops/array_ops.py:1340: add_dispatch_support.<locals>.wrapper (from tensorflow.python.ops.array_ops) is deprecated and will be removed in a future version.\n",
            "Instructions for updating:\n",
            "Use tf.where in 2.0, which has the same broadcast rule as np.where\n",
            "INFO:tensorflow:Graph was finalized.\n",
            "INFO:tensorflow:Running local_init_op.\n",
            "INFO:tensorflow:Done running local_init_op.\n",
            "INFO:tensorflow:Saving checkpoints for 0 into /tmp/tmpfk2kb2zy/model.ckpt.\n",
            "INFO:tensorflow:loss = 0.875278, step = 0\n",
            "INFO:tensorflow:global_step/sec: 419.339\n",
            "INFO:tensorflow:loss = 0.7308066, step = 100 (0.240 sec)\n",
            "INFO:tensorflow:global_step/sec: 513.949\n",
            "INFO:tensorflow:loss = 0.7117115, step = 200 (0.195 sec)\n",
            "INFO:tensorflow:global_step/sec: 541.588\n",
            "INFO:tensorflow:loss = 0.6632066, step = 300 (0.186 sec)\n",
            "INFO:tensorflow:global_step/sec: 473.669\n",
            "INFO:tensorflow:loss = 0.6414556, step = 400 (0.214 sec)\n",
            "INFO:tensorflow:global_step/sec: 511.688\n",
            "INFO:tensorflow:loss = 0.60273504, step = 500 (0.192 sec)\n",
            "INFO:tensorflow:global_step/sec: 529.226\n",
            "INFO:tensorflow:loss = 0.604637, step = 600 (0.189 sec)\n",
            "INFO:tensorflow:global_step/sec: 534.821\n",
            "INFO:tensorflow:loss = 0.59296894, step = 700 (0.187 sec)\n",
            "INFO:tensorflow:global_step/sec: 516.471\n",
            "INFO:tensorflow:loss = 0.5577429, step = 800 (0.194 sec)\n",
            "INFO:tensorflow:global_step/sec: 554.679\n",
            "INFO:tensorflow:loss = 0.5576007, step = 900 (0.181 sec)\n",
            "INFO:tensorflow:global_step/sec: 543.671\n",
            "INFO:tensorflow:loss = 0.5419211, step = 1000 (0.186 sec)\n",
            "INFO:tensorflow:global_step/sec: 508.392\n",
            "INFO:tensorflow:loss = 0.5390841, step = 1100 (0.198 sec)\n",
            "INFO:tensorflow:global_step/sec: 530.64\n",
            "INFO:tensorflow:loss = 0.5265803, step = 1200 (0.185 sec)\n",
            "INFO:tensorflow:global_step/sec: 527.379\n",
            "INFO:tensorflow:loss = 0.5104143, step = 1300 (0.190 sec)\n",
            "INFO:tensorflow:global_step/sec: 523.634\n",
            "INFO:tensorflow:loss = 0.52017885, step = 1400 (0.193 sec)\n",
            "INFO:tensorflow:global_step/sec: 539.735\n",
            "INFO:tensorflow:loss = 0.49703884, step = 1500 (0.185 sec)\n",
            "INFO:tensorflow:global_step/sec: 508.895\n",
            "INFO:tensorflow:loss = 0.48400974, step = 1600 (0.194 sec)\n",
            "INFO:tensorflow:global_step/sec: 556.135\n",
            "INFO:tensorflow:loss = 0.46712333, step = 1700 (0.180 sec)\n",
            "INFO:tensorflow:global_step/sec: 553.875\n",
            "INFO:tensorflow:loss = 0.47853774, step = 1800 (0.181 sec)\n",
            "INFO:tensorflow:global_step/sec: 547.036\n",
            "INFO:tensorflow:loss = 0.46905908, step = 1900 (0.183 sec)\n",
            "INFO:tensorflow:global_step/sec: 517.252\n",
            "INFO:tensorflow:loss = 0.47450405, step = 2000 (0.193 sec)\n",
            "INFO:tensorflow:global_step/sec: 548.54\n",
            "INFO:tensorflow:loss = 0.4630124, step = 2100 (0.182 sec)\n",
            "INFO:tensorflow:global_step/sec: 518.694\n",
            "INFO:tensorflow:loss = 0.45812255, step = 2200 (0.193 sec)\n",
            "INFO:tensorflow:global_step/sec: 539.873\n",
            "INFO:tensorflow:loss = 0.44423762, step = 2300 (0.185 sec)\n",
            "INFO:tensorflow:global_step/sec: 528.185\n",
            "INFO:tensorflow:loss = 0.44934624, step = 2400 (0.189 sec)\n",
            "INFO:tensorflow:global_step/sec: 542.748\n",
            "INFO:tensorflow:loss = 0.44305182, step = 2500 (0.185 sec)\n",
            "INFO:tensorflow:global_step/sec: 524.306\n",
            "INFO:tensorflow:loss = 0.4430768, step = 2600 (0.190 sec)\n",
            "INFO:tensorflow:global_step/sec: 539.894\n",
            "INFO:tensorflow:loss = 0.43473244, step = 2700 (0.185 sec)\n",
            "INFO:tensorflow:global_step/sec: 506.15\n",
            "INFO:tensorflow:loss = 0.4195895, step = 2800 (0.198 sec)\n",
            "INFO:tensorflow:global_step/sec: 540.186\n",
            "INFO:tensorflow:loss = 0.42903507, step = 2900 (0.186 sec)\n",
            "INFO:tensorflow:global_step/sec: 550.802\n",
            "INFO:tensorflow:loss = 0.42092577, step = 3000 (0.181 sec)\n",
            "INFO:tensorflow:global_step/sec: 525.164\n",
            "INFO:tensorflow:loss = 0.41561753, step = 3100 (0.190 sec)\n",
            "INFO:tensorflow:global_step/sec: 543.779\n",
            "INFO:tensorflow:loss = 0.41529784, step = 3200 (0.184 sec)\n",
            "INFO:tensorflow:global_step/sec: 539.928\n",
            "INFO:tensorflow:loss = 0.405263, step = 3300 (0.186 sec)\n",
            "INFO:tensorflow:global_step/sec: 499.593\n",
            "INFO:tensorflow:loss = 0.4009271, step = 3400 (0.200 sec)\n",
            "INFO:tensorflow:global_step/sec: 546.726\n",
            "INFO:tensorflow:loss = 0.40899473, step = 3500 (0.183 sec)\n",
            "INFO:tensorflow:global_step/sec: 535.866\n",
            "INFO:tensorflow:loss = 0.40444058, step = 3600 (0.186 sec)\n",
            "INFO:tensorflow:global_step/sec: 515.845\n",
            "INFO:tensorflow:loss = 0.39755216, step = 3700 (0.194 sec)\n",
            "INFO:tensorflow:global_step/sec: 561.926\n",
            "INFO:tensorflow:loss = 0.39892033, step = 3800 (0.178 sec)\n",
            "INFO:tensorflow:global_step/sec: 546.325\n",
            "INFO:tensorflow:loss = 0.3908279, step = 3900 (0.183 sec)\n",
            "INFO:tensorflow:global_step/sec: 548.087\n",
            "INFO:tensorflow:loss = 0.38721246, step = 4000 (0.183 sec)\n",
            "INFO:tensorflow:global_step/sec: 478.291\n",
            "INFO:tensorflow:loss = 0.39146686, step = 4100 (0.209 sec)\n",
            "INFO:tensorflow:global_step/sec: 545.253\n",
            "INFO:tensorflow:loss = 0.38084483, step = 4200 (0.186 sec)\n",
            "INFO:tensorflow:global_step/sec: 549.606\n",
            "INFO:tensorflow:loss = 0.37096244, step = 4300 (0.179 sec)\n",
            "INFO:tensorflow:global_step/sec: 567.914\n",
            "INFO:tensorflow:loss = 0.3834387, step = 4400 (0.176 sec)\n",
            "INFO:tensorflow:global_step/sec: 518.217\n",
            "INFO:tensorflow:loss = 0.37085915, step = 4500 (0.193 sec)\n",
            "INFO:tensorflow:global_step/sec: 555.499\n",
            "INFO:tensorflow:loss = 0.36305085, step = 4600 (0.180 sec)\n",
            "INFO:tensorflow:global_step/sec: 531.916\n",
            "INFO:tensorflow:loss = 0.36540568, step = 4700 (0.188 sec)\n",
            "INFO:tensorflow:global_step/sec: 552.814\n",
            "INFO:tensorflow:loss = 0.3708235, step = 4800 (0.181 sec)\n",
            "INFO:tensorflow:global_step/sec: 538.585\n",
            "INFO:tensorflow:loss = 0.36733884, step = 4900 (0.185 sec)\n",
            "INFO:tensorflow:Saving checkpoints for 5000 into /tmp/tmpfk2kb2zy/model.ckpt.\n",
            "INFO:tensorflow:Loss for final step: 0.3687455.\n"
          ],
          "name": "stdout"
        },
        {
          "output_type": "execute_result",
          "data": {
            "text/plain": [
              "<tensorflow_estimator.python.estimator.canned.dnn.DNNClassifierV2 at 0x7fcaa525be10>"
            ]
          },
          "metadata": {
            "tags": []
          },
          "execution_count": 24
        }
      ]
    },
    {
      "cell_type": "code",
      "metadata": {
        "id": "3lr6zdJ2WyYT",
        "colab_type": "code",
        "colab": {
          "base_uri": "https://localhost:8080/",
          "height": 315
        },
        "outputId": "8ecc333f-7de1-4e15-beb5-da9966e21501"
      },
      "source": [
        "eval_result = classifier.evaluate(\n",
        "    input_fn=lambda: input_fn(test, y_test, training=False))\n",
        "print('\\nTest set accuracy: {accuracy:0.3f}\\n'.format(**eval_result))"
      ],
      "execution_count": 25,
      "outputs": [
        {
          "output_type": "stream",
          "text": [
            "INFO:tensorflow:Calling model_fn.\n",
            "INFO:tensorflow:Done calling model_fn.\n",
            "INFO:tensorflow:Starting evaluation at 2020-03-10T16:54:34Z\n",
            "INFO:tensorflow:Graph was finalized.\n",
            "WARNING:tensorflow:From /usr/local/lib/python3.6/dist-packages/tensorflow/python/training/saver.py:1276: checkpoint_exists (from tensorflow.python.training.checkpoint_management) is deprecated and will be removed in a future version.\n",
            "Instructions for updating:\n",
            "Use standard file APIs to check for files with this prefix.\n",
            "INFO:tensorflow:Restoring parameters from /tmp/tmpfk2kb2zy/model.ckpt-5000\n",
            "INFO:tensorflow:Running local_init_op.\n",
            "INFO:tensorflow:Done running local_init_op.\n",
            "INFO:tensorflow:Finished evaluation at 2020-03-10-16:54:35\n",
            "INFO:tensorflow:Saving dict for global step 5000: accuracy = 0.93333334, average_loss = 0.4211055, global_step = 5000, loss = 0.4211055\n",
            "INFO:tensorflow:Saving 'checkpoint_path' summary for global step 5000: /tmp/tmpfk2kb2zy/model.ckpt-5000\n",
            "\n",
            "Test set accuracy: 0.933\n",
            "\n"
          ],
          "name": "stdout"
        }
      ]
    },
    {
      "cell_type": "markdown",
      "metadata": {
        "id": "LD43Q8sVZZiX",
        "colab_type": "text"
      },
      "source": [
        "**Making Predictions from Training Model**"
      ]
    },
    {
      "cell_type": "code",
      "metadata": {
        "id": "cEOvG4CWXo1I",
        "colab_type": "code",
        "colab": {}
      },
      "source": [
        "# Generate predicitions from the model\n",
        "expected = ['Setosa', 'Versicolor', 'Virginica']\n",
        "predict_x = {\n",
        "    'SepalLength': [5.1, 5.9, 6.9],\n",
        "    'SepalWidth': [3.3, 3.0, 3.1],\n",
        "    'PetalLength': [1.7, 4.2, 5.4],\n",
        "    'PetalWidth': [0.5, 1.5, 2.1]\n",
        "}\n",
        "\n",
        "def input_fn(features, batch_size=256):\n",
        "\n",
        "  # Convert the Input to a Dataset without labels.\n",
        "  return tf.data.Dataset.from_tensor_slices(dict(features)).batch(batch_size)\n",
        "\n",
        "predictions = classifier.predict(\n",
        "    input_fn = lambda: input_fn(predict_x))"
      ],
      "execution_count": 0,
      "outputs": []
    },
    {
      "cell_type": "markdown",
      "metadata": {
        "id": "QWoJO6i0asEZ",
        "colab_type": "text"
      },
      "source": [
        "The predict method returns a Python iterable, yielding a dictionary of predictions results for each example. The following code prints a few predictions and their probabilities:"
      ]
    },
    {
      "cell_type": "code",
      "metadata": {
        "id": "rCAeO_2qamzx",
        "colab_type": "code",
        "colab": {
          "base_uri": "https://localhost:8080/",
          "height": 173
        },
        "outputId": "5fef55bc-be9d-4c50-b0cc-d1e300bda29c"
      },
      "source": [
        "for pred_dict, expec in zip(predictions, expected):\n",
        "  class_id = pred_dict['class_ids'][0]\n",
        "  probability = pred_dict['probabilities'][class_id]\n",
        "\n",
        "  print('Prediction is \"{}\" ({:.1f}%), expected \"{}\"'.format(\n",
        "      SPECIES[class_id], 100 * probability, expec))"
      ],
      "execution_count": 29,
      "outputs": [
        {
          "output_type": "stream",
          "text": [
            "INFO:tensorflow:Calling model_fn.\n",
            "INFO:tensorflow:Done calling model_fn.\n",
            "INFO:tensorflow:Graph was finalized.\n",
            "INFO:tensorflow:Restoring parameters from /tmp/tmpfk2kb2zy/model.ckpt-5000\n",
            "INFO:tensorflow:Running local_init_op.\n",
            "INFO:tensorflow:Done running local_init_op.\n",
            "Prediction is \"Setosa\" (91.0%), expected \"Setosa\"\n",
            "Prediction is \"Versicolor\" (53.7%), expected \"Versicolor\"\n",
            "Prediction is \"Virginica\" (62.4%), expected \"Virginica\"\n"
          ],
          "name": "stdout"
        }
      ]
    }
  ]
}